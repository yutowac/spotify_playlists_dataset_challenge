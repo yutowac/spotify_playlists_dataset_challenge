{
 "cells": [
  {
   "cell_type": "markdown",
   "metadata": {},
   "source": [
    "# Visualize"
   ]
  },
  {
   "cell_type": "code",
   "execution_count": 1,
   "metadata": {},
   "outputs": [],
   "source": [
    "import json\n",
    "import numpy as np\n",
    "import pandas as pd\n",
    "import collections\n",
    "import plotly.figure_factory as ff\n",
    "import plotly.express as px"
   ]
  },
  {
   "cell_type": "code",
   "execution_count": null,
   "metadata": {},
   "outputs": [],
   "source": [
    "with open('../data/processed/dict_summary_playlist.json') as f:\n",
    "    d_summary_playlist = json.load(f)\n",
    "d_summary_playlist.keys()"
   ]
  },
  {
   "cell_type": "code",
   "execution_count": null,
   "metadata": {},
   "outputs": [],
   "source": [
    "with open('../data/processed/dict_summary_track.json') as f:\n",
    "    d_summary_track = json.load(f)\n",
    "d_summary_track.keys()"
   ]
  },
  {
   "cell_type": "code",
   "execution_count": 2,
   "metadata": {},
   "outputs": [
    {
     "data": {
      "text/plain": [
       "dict_keys(['names_artist'])"
      ]
     },
     "execution_count": 2,
     "metadata": {},
     "output_type": "execute_result"
    }
   ],
   "source": [
    "with open('../data/processed/dict_summary_track_artists.json') as f:\n",
    "    d_summary_track_ar = json.load(f)\n",
    "d_summary_track_ar.keys()"
   ]
  },
  {
   "cell_type": "code",
   "execution_count": null,
   "metadata": {},
   "outputs": [],
   "source": [
    "with open('../data/processed/dict_summary_track_tracks.json') as f:\n",
    "    d_summary_track_tr = json.load(f)\n",
    "d_summary_track_tr.keys()"
   ]
  },
  {
   "cell_type": "code",
   "execution_count": null,
   "metadata": {},
   "outputs": [],
   "source": [
    "with open('../data/processed/dict_summary_track_albums.json') as f:\n",
    "    d_summary_track_al = json.load(f)\n",
    "d_summary_track_al.keys()"
   ]
  },
  {
   "cell_type": "code",
   "execution_count": null,
   "metadata": {},
   "outputs": [],
   "source": [
    "l_names_playlist = d_summary_playlist['names_playlist']\n",
    "l_num_tracks = d_summary_playlist['num_tracks']\n",
    "l_num_albums = d_summary_playlist['num_albums']\n",
    "l_num_artists = d_summary_playlist['num_artists']\n",
    "l_num_followers = d_summary_playlist['num_followers']\n",
    "l_num_durations = d_summary_playlist['num_durations']\n",
    "l_rate_albumsByTracks = d_summary_playlist['rate_albumsByTracks']"
   ]
  },
  {
   "cell_type": "code",
   "execution_count": null,
   "metadata": {},
   "outputs": [],
   "source": [
    "## 基本情報\n",
    "print('基本情報')\n",
    "print('playlist数:', len(l_names_playlist), '件')\n",
    "print('track数 : ', sum(l_num_tracks), '曲')\n",
    "print('album数 : ', sum(l_num_albums), '枚')\n",
    "print('artist数: ', sum(l_num_artists), '人')\n",
    "print('follow数:  ', sum(l_num_followers), '回')"
   ]
  },
  {
   "cell_type": "markdown",
   "metadata": {},
   "source": [
    "## Histogram of Playlist data"
   ]
  },
  {
   "cell_type": "code",
   "execution_count": null,
   "metadata": {},
   "outputs": [],
   "source": [
    "def show_hist(x, x_label, title):\n",
    "    fig = px.histogram(x, labels={'x':x_label}, marginal='box', title=title, nbins=30)\n",
    "    fig.update_layout(showlegend=False)\n",
    "    fig.show()"
   ]
  },
  {
   "cell_type": "code",
   "execution_count": null,
   "metadata": {},
   "outputs": [],
   "source": [
    "show_hist(l_num_tracks, 'tracks', 'tracks in a playlist')"
   ]
  },
  {
   "cell_type": "code",
   "execution_count": null,
   "metadata": {
    "scrolled": false
   },
   "outputs": [],
   "source": [
    "show_hist(l_num_albums, 'albums', 'albums in a playlist')"
   ]
  },
  {
   "cell_type": "code",
   "execution_count": null,
   "metadata": {
    "scrolled": false
   },
   "outputs": [],
   "source": [
    "show_hist(l_num_artists, 'artists', 'artists in a playlist')"
   ]
  },
  {
   "cell_type": "code",
   "execution_count": null,
   "metadata": {
    "scrolled": true
   },
   "outputs": [],
   "source": [
    "show_hist(l_num_followers, 'followers', 'followers in a playlist')"
   ]
  },
  {
   "cell_type": "code",
   "execution_count": null,
   "metadata": {
    "scrolled": false
   },
   "outputs": [],
   "source": [
    "show_hist(l_rate_albumsByTracks, 'albums in tracks/%', 'albums in tracks in a playlist')"
   ]
  },
  {
   "cell_type": "markdown",
   "metadata": {},
   "source": [
    "## Correration of Playlist data"
   ]
  },
  {
   "cell_type": "code",
   "execution_count": null,
   "metadata": {},
   "outputs": [],
   "source": [
    "df = pd.DataFrame(d_summary_playlist)\n",
    "cont_multi_selected = list(d_summary_playlist.keys())\n",
    "df_corr = df[cont_multi_selected].corr()\n",
    "x = list(df_corr.columns)\n",
    "y = list(df_corr.index)\n",
    "z = np.array(df_corr)\n",
    "fig = ff.create_annotated_heatmap(\n",
    "    z,\n",
    "    x = x,\n",
    "    y = y ,\n",
    "    annotation_text = np.around(z, decimals=3),\n",
    "    hoverinfo='z',\n",
    "    colorscale='Magma'\n",
    "    ).update_yaxes(autorange=\"reversed\")\n",
    "fig.show()"
   ]
  },
  {
   "cell_type": "markdown",
   "metadata": {},
   "source": [
    "## Bar Chart of Top Track data"
   ]
  },
  {
   "cell_type": "code",
   "execution_count": null,
   "metadata": {},
   "outputs": [],
   "source": [
    "df_topTrack = pd.read_csv('../data/processed/df_topTrack.csv')\n",
    "df_topTrack['top10_track']=df_topTrack['top10_track']+'('+df_topTrack['top10_track_artist']+')'\n",
    "fig = px.bar(df_topTrack, x='top10_track', y='num_in_playlists', labels={'top10_track':'top 10 tracks(artists)','num_in_playlists':'numbers in playlists'})\n",
    "fig.show()"
   ]
  },
  {
   "cell_type": "code",
   "execution_count": null,
   "metadata": {},
   "outputs": [],
   "source": [
    "df_topAlbum = pd.read_csv('../data/processed/df_topAlbum.csv')\n",
    "df_topAlbum['top10_album']=df_topAlbum['top10_album']+'('+df_topAlbum['top10_album_artist']+')'\n",
    "fig = px.bar(df_topAlbum, x='top10_album', y='num_in_playlists', labels={'top10_album':'top 10 albums(artists)','num_in_playlists':'numbers in playlists'})\n",
    "fig.show()"
   ]
  },
  {
   "cell_type": "code",
   "execution_count": null,
   "metadata": {},
   "outputs": [],
   "source": []
  }
 ],
 "metadata": {
  "kernelspec": {
   "display_name": "Python 3",
   "language": "python",
   "name": "python3"
  },
  "language_info": {
   "codemirror_mode": {
    "name": "ipython",
    "version": 3
   },
   "file_extension": ".py",
   "mimetype": "text/x-python",
   "name": "python",
   "nbconvert_exporter": "python",
   "pygments_lexer": "ipython3",
   "version": "3.8.8"
  },
  "toc": {
   "base_numbering": 1,
   "nav_menu": {},
   "number_sections": true,
   "sideBar": true,
   "skip_h1_title": false,
   "title_cell": "Table of Contents",
   "title_sidebar": "Contents",
   "toc_cell": false,
   "toc_position": {},
   "toc_section_display": true,
   "toc_window_display": true
  }
 },
 "nbformat": 4,
 "nbformat_minor": 4
}
